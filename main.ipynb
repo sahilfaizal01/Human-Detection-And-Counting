{
 "cells": [
  {
   "cell_type": "code",
   "execution_count": 10,
   "id": "41853411",
   "metadata": {},
   "outputs": [
    {
     "name": "stdout",
     "output_type": "stream",
     "text": [
      "Collecting opencv-python==4.0.1.23\n",
      "  Downloading opencv_python-4.0.1.23-cp37-cp37m-manylinux1_x86_64.whl (25.7 MB)\n",
      "\u001b[2K     \u001b[38;2;114;156;31m━━━━━━━━━━━━━━━━━━━━━━━━━━━━━━━━━━━━━━━━\u001b[0m \u001b[32m25.7/25.7 MB\u001b[0m \u001b[31m2.8 MB/s\u001b[0m eta \u001b[36m0:00:00\u001b[0mm eta \u001b[36m0:00:01\u001b[0m[36m0:00:01\u001b[0m\n",
      "\u001b[?25hRequirement already satisfied: numpy>=1.14.5 in /home/sahil/anaconda3/envs/user_environment/lib/python3.7/site-packages (from opencv-python==4.0.1.23) (1.21.6)\n",
      "\u001b[33mWARNING: The candidate selected for download or install is a yanked version: 'opencv-python' candidate (version 4.0.1.23 at https://files.pythonhosted.org/packages/8f/fb/39039b5248f30e1329f4fb33f70550979571600ec4b2ac1e280f5f106045/opencv_python-4.0.1.23-cp37-cp37m-manylinux1_x86_64.whl (from https://pypi.org/simple/opencv-python/))\n",
      "Reason for being yanked: Release deprecated\u001b[0m\u001b[33m\n",
      "\u001b[0mInstalling collected packages: opencv-python\n",
      "  Attempting uninstall: opencv-python\n",
      "    Found existing installation: opencv-python 4.5.5.64\n",
      "    Uninstalling opencv-python-4.5.5.64:\n",
      "      Successfully uninstalled opencv-python-4.5.5.64\n",
      "\u001b[31mERROR: pip's dependency resolver does not currently take into account all the packages that are installed. This behaviour is the source of the following dependency conflicts.\n",
      "pdf2docx 0.5.6 requires opencv-python>=4.5, but you have opencv-python 4.0.1.23 which is incompatible.\u001b[0m\u001b[31m\n",
      "\u001b[0mSuccessfully installed opencv-python-4.0.1.23\n",
      "\n",
      "\u001b[1m[\u001b[0m\u001b[34;49mnotice\u001b[0m\u001b[1;39;49m]\u001b[0m\u001b[39;49m A new release of pip available: \u001b[0m\u001b[31;49m22.3\u001b[0m\u001b[39;49m -> \u001b[0m\u001b[32;49m22.3.1\u001b[0m\n",
      "\u001b[1m[\u001b[0m\u001b[34;49mnotice\u001b[0m\u001b[1;39;49m]\u001b[0m\u001b[39;49m To update, run: \u001b[0m\u001b[32;49mpip install --upgrade pip\u001b[0m\n"
     ]
    }
   ],
   "source": [
    "!pip install opencv-python==4.0.1.23"
   ]
  },
  {
   "cell_type": "code",
   "execution_count": null,
   "id": "f26e45f1",
   "metadata": {},
   "outputs": [],
   "source": [
    "import cv2\n",
    "import imutils\n",
    "import numpy as np\n",
    "import argparse"
   ]
  },
  {
   "cell_type": "code",
   "execution_count": null,
   "id": "bd89644a",
   "metadata": {},
   "outputs": [],
   "source": [
    "HOGCV = cv2.HOGDescriptor()\n",
    "HOGCV.setSVMDetector(cv2.HOGDescriptor_getDefaultPeopleDetector())"
   ]
  },
  {
   "cell_type": "code",
   "execution_count": null,
   "id": "aa875378",
   "metadata": {},
   "outputs": [],
   "source": [
    "def detect(frame):\n",
    "    bounding_box_cordinates, weights =  HOGCV.detectMultiScale(frame, winStride = (4, 4), padding = (8, 8), scale = 1.03)\n",
    "    \n",
    "    person = 1\n",
    "    for x,y,w,h in bounding_box_cordinates:\n",
    "        cv2.rectangle(frame, (x,y), (x+w,y+h), (0,255,0), 2)\n",
    "        cv2.putText(frame, f'person {person}', (x,y), cv2.FONT_HERSHEY_SIMPLEX, 0.5, (0,0,255), 1)\n",
    "        person += 1\n",
    "    \n",
    "    cv2.putText(frame, 'Status : Detecting ', (40,40), cv2.FONT_HERSHEY_DUPLEX, 0.8, (255,0,0), 2)\n",
    "    cv2.putText(frame, f'Total Persons : {person-1}', (40,70), cv2.FONT_HERSHEY_DUPLEX, 0.8, (255,0,0), 2)\n",
    "    cv2.imshow('output', frame)\n",
    "\n",
    "    return frame"
   ]
  },
  {
   "cell_type": "code",
   "execution_count": null,
   "id": "87d898d6",
   "metadata": {},
   "outputs": [],
   "source": [
    "def detectByPathVideo(path, writer):\n",
    "    video = cv2.VideoCapture(path)\n",
    "    check, frame = video.read()\n",
    "    if check == False:\n",
    "        print('Video Not Found. Please Enter a Valid Path (Full path of Video Should be Provided).')\n",
    "        return\n",
    "    print('Detecting people...')\n",
    "    while video.isOpened():\n",
    "        #check is True if reading was successful \n",
    "        check, frame =  video.read()\n",
    "        if check:\n",
    "            frame = imutils.resize(frame , width=min(800,frame.shape[1]))\n",
    "            frame = detect(frame)\n",
    "            \n",
    "            if writer is not None:\n",
    "                writer.write(frame)\n",
    "            \n",
    "            key = cv2.waitKey(1)\n",
    "            if key== ord('q'):\n",
    "                break\n",
    "        else:\n",
    "            break\n",
    "    video.release()\n",
    "    cv2.destroyAllWindows()"
   ]
  },
  {
   "cell_type": "code",
   "execution_count": null,
   "id": "e6a67610",
   "metadata": {},
   "outputs": [],
   "source": [
    "def detectByCamera(writer):   \n",
    "    video = cv2.VideoCapture(0)\n",
    "    print('Detecting people...')\n",
    "\n",
    "    while True:\n",
    "        check, frame = video.read()\n",
    "\n",
    "        frame = detect(frame)\n",
    "        if writer is not None:\n",
    "            writer.write(frame)\n",
    "\n",
    "        key = cv2.waitKey(1)\n",
    "        if key == ord('q'):\n",
    "            break\n",
    "\n",
    "    video.release()\n",
    "    cv2.destroyAllWindows()"
   ]
  },
  {
   "cell_type": "code",
   "execution_count": null,
   "id": "954baa9f",
   "metadata": {},
   "outputs": [],
   "source": [
    "def detectByPathImage(path, output_path):\n",
    "    image = cv2.imread(path)\n",
    "    image = imutils.resize(image, width = min(800, image.shape[1])) \n",
    "    result_image = detect(image)\n",
    "    if output_path is not None:\n",
    "        cv2.imwrite(output_path, result_image)\n",
    "    cv2.waitKey(0)\n",
    "    cv2.destroyAllWindows()"
   ]
  },
  {
   "cell_type": "code",
   "execution_count": null,
   "id": "f4076abf",
   "metadata": {},
   "outputs": [],
   "source": [
    "def humanDetector(inp_type,inp_path,output_path=''):\n",
    "    image_path = ''\n",
    "    camera = False\n",
    "    video_path = ''\n",
    "    writer = None\n",
    "    if inp_type == 'camera' : camera = True \n",
    "    if inp_type == 'image' : image_path = inp_path\n",
    "    if inp_type == 'video': video_path = inp_path\n",
    "    if output_path is not None and image_path is None:\n",
    "        writer = cv2.VideoWriter(output_path,cv2.VideoWriter_fourcc(*'MJPG'), 10, (600,600))\n",
    "    if camera:\n",
    "        print('Turning camera ON')\n",
    "        detectByCamera(ouput_path,writer)\n",
    "    elif video_path is not None:\n",
    "        print('Opening Video from path.')\n",
    "        detectByPathVideo(video_path, writer)\n",
    "    elif image_path is not None:\n",
    "        print('Opening Image from path.')\n",
    "        detectByPathImage(image_path, output_path)"
   ]
  },
  {
   "cell_type": "code",
   "execution_count": null,
   "id": "501e8370",
   "metadata": {},
   "outputs": [],
   "source": [
    "humanDetector('video','video.mp4')"
   ]
  },
  {
   "cell_type": "code",
   "execution_count": null,
   "id": "b66e10db",
   "metadata": {},
   "outputs": [],
   "source": []
  },
  {
   "cell_type": "code",
   "execution_count": null,
   "id": "c02dd819",
   "metadata": {},
   "outputs": [],
   "source": []
  },
  {
   "cell_type": "code",
   "execution_count": null,
   "id": "98c45900",
   "metadata": {},
   "outputs": [],
   "source": []
  },
  {
   "cell_type": "code",
   "execution_count": null,
   "id": "ecb27601",
   "metadata": {},
   "outputs": [],
   "source": []
  },
  {
   "cell_type": "code",
   "execution_count": null,
   "id": "6f1f4ce5",
   "metadata": {},
   "outputs": [],
   "source": []
  },
  {
   "cell_type": "code",
   "execution_count": null,
   "id": "838a166f",
   "metadata": {},
   "outputs": [],
   "source": []
  },
  {
   "cell_type": "code",
   "execution_count": null,
   "id": "652978e0",
   "metadata": {},
   "outputs": [],
   "source": []
  },
  {
   "cell_type": "code",
   "execution_count": null,
   "id": "40970ae8",
   "metadata": {},
   "outputs": [],
   "source": []
  },
  {
   "cell_type": "code",
   "execution_count": null,
   "id": "b2a5fbe2",
   "metadata": {},
   "outputs": [],
   "source": []
  },
  {
   "cell_type": "code",
   "execution_count": null,
   "id": "ae8c479f",
   "metadata": {},
   "outputs": [],
   "source": []
  },
  {
   "cell_type": "code",
   "execution_count": null,
   "id": "4ae99105",
   "metadata": {},
   "outputs": [],
   "source": []
  },
  {
   "cell_type": "code",
   "execution_count": null,
   "id": "ed3e4a03",
   "metadata": {},
   "outputs": [],
   "source": []
  },
  {
   "cell_type": "code",
   "execution_count": null,
   "id": "f02b35c5",
   "metadata": {},
   "outputs": [],
   "source": []
  }
 ],
 "metadata": {
  "kernelspec": {
   "display_name": "Python 3 (ipykernel)",
   "language": "python",
   "name": "python3"
  },
  "language_info": {
   "codemirror_mode": {
    "name": "ipython",
    "version": 3
   },
   "file_extension": ".py",
   "mimetype": "text/x-python",
   "name": "python",
   "nbconvert_exporter": "python",
   "pygments_lexer": "ipython3",
   "version": "3.7.13"
  }
 },
 "nbformat": 4,
 "nbformat_minor": 5
}
